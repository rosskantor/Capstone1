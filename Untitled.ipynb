{
 "cells": [
  {
   "cell_type": "code",
   "execution_count": 6,
   "metadata": {},
   "outputs": [],
   "source": [
    "import pandas as pd\n",
    "import missingno as msno\n",
    "import matplotlib.pyplot as plt\n",
    "import explore as ex"
   ]
  },
  {
   "cell_type": "code",
   "execution_count": 7,
   "metadata": {},
   "outputs": [],
   "source": [
    "df = ex.explore()"
   ]
  },
  {
   "cell_type": "code",
   "execution_count": 9,
   "metadata": {},
   "outputs": [
    {
     "data": {
      "text/html": [
       "<div>\n",
       "<style scoped>\n",
       "    .dataframe tbody tr th:only-of-type {\n",
       "        vertical-align: middle;\n",
       "    }\n",
       "\n",
       "    .dataframe tbody tr th {\n",
       "        vertical-align: top;\n",
       "    }\n",
       "\n",
       "    .dataframe thead th {\n",
       "        text-align: right;\n",
       "    }\n",
       "</style>\n",
       "<table border=\"1\" class=\"dataframe\">\n",
       "  <thead>\n",
       "    <tr style=\"text-align: right;\">\n",
       "      <th></th>\n",
       "      <th>ID</th>\n",
       "      <th>DateOfData</th>\n",
       "      <th>Variable01</th>\n",
       "      <th>Variable02</th>\n",
       "      <th>Variable03</th>\n",
       "      <th>Variable04</th>\n",
       "      <th>Variable05</th>\n",
       "      <th>Variable06</th>\n",
       "      <th>Variable07</th>\n",
       "      <th>Variable08</th>\n",
       "      <th>Variable09</th>\n",
       "      <th>Variable10</th>\n",
       "      <th>Variable11</th>\n",
       "      <th>Result01</th>\n",
       "      <th>Result02</th>\n",
       "      <th>Result03</th>\n",
       "    </tr>\n",
       "  </thead>\n",
       "  <tbody>\n",
       "    <tr>\n",
       "      <th>0</th>\n",
       "      <td>256936</td>\n",
       "      <td>6/1/2018 0:10</td>\n",
       "      <td>2</td>\n",
       "      <td>NaN</td>\n",
       "      <td>23</td>\n",
       "      <td>3</td>\n",
       "      <td>606.0</td>\n",
       "      <td>NM</td>\n",
       "      <td>72.0</td>\n",
       "      <td>0.0</td>\n",
       "      <td>-0.0087</td>\n",
       "      <td>-3.53</td>\n",
       "      <td>21547.0</td>\n",
       "      <td>1.0</td>\n",
       "      <td>0</td>\n",
       "      <td>0</td>\n",
       "    </tr>\n",
       "    <tr>\n",
       "      <th>1</th>\n",
       "      <td>256937</td>\n",
       "      <td>6/1/2018 0:13</td>\n",
       "      <td>2</td>\n",
       "      <td>NaN</td>\n",
       "      <td>23</td>\n",
       "      <td>3</td>\n",
       "      <td>660.0</td>\n",
       "      <td>AZ</td>\n",
       "      <td>64.0</td>\n",
       "      <td>NaN</td>\n",
       "      <td>NaN</td>\n",
       "      <td>NaN</td>\n",
       "      <td>18050.4</td>\n",
       "      <td>2.5</td>\n",
       "      <td>1</td>\n",
       "      <td>1</td>\n",
       "    </tr>\n",
       "    <tr>\n",
       "      <th>2</th>\n",
       "      <td>256938</td>\n",
       "      <td>6/1/2018 0:33</td>\n",
       "      <td>2</td>\n",
       "      <td>NaN</td>\n",
       "      <td>23</td>\n",
       "      <td>3</td>\n",
       "      <td>699.0</td>\n",
       "      <td>NJ</td>\n",
       "      <td>25.0</td>\n",
       "      <td>0.0</td>\n",
       "      <td>0.0241</td>\n",
       "      <td>276.68</td>\n",
       "      <td>NaN</td>\n",
       "      <td>2.5</td>\n",
       "      <td>0</td>\n",
       "      <td>0</td>\n",
       "    </tr>\n",
       "  </tbody>\n",
       "</table>\n",
       "</div>"
      ],
      "text/plain": [
       "       ID     DateOfData  Variable01  Variable02  Variable03  Variable04  \\\n",
       "0  256936  6/1/2018 0:10           2         NaN          23           3   \n",
       "1  256937  6/1/2018 0:13           2         NaN          23           3   \n",
       "2  256938  6/1/2018 0:33           2         NaN          23           3   \n",
       "\n",
       "   Variable05 Variable06  Variable07  Variable08  Variable09  Variable10  \\\n",
       "0       606.0         NM        72.0         0.0     -0.0087       -3.53   \n",
       "1       660.0         AZ        64.0         NaN         NaN         NaN   \n",
       "2       699.0         NJ        25.0         0.0      0.0241      276.68   \n",
       "\n",
       "   Variable11  Result01  Result02  Result03  \n",
       "0     21547.0       1.0         0         0  \n",
       "1     18050.4       2.5         1         1  \n",
       "2         NaN       2.5         0         0  "
      ]
     },
     "execution_count": 9,
     "metadata": {},
     "output_type": "execute_result"
    }
   ],
   "source": [
    "df.head(3)"
   ]
  },
  {
   "cell_type": "code",
   "execution_count": 10,
   "metadata": {},
   "outputs": [],
   "source": [
    "ex.dropper?"
   ]
  },
  {
   "cell_type": "code",
   "execution_count": null,
   "metadata": {},
   "outputs": [],
   "source": []
  }
 ],
 "metadata": {
  "kernelspec": {
   "display_name": "Python 3",
   "language": "python",
   "name": "python3"
  },
  "language_info": {
   "codemirror_mode": {
    "name": "ipython",
    "version": 3
   },
   "file_extension": ".py",
   "mimetype": "text/x-python",
   "name": "python",
   "nbconvert_exporter": "python",
   "pygments_lexer": "ipython3",
   "version": "3.6.4"
  }
 },
 "nbformat": 4,
 "nbformat_minor": 2
}
